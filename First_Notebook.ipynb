{
 "cells": [
  {
   "cell_type": "markdown",
   "metadata": {},
   "source": [
    "# Category 1: Using existing data to make inferences about the creative process of the Royal Rumble match"
   ]
  },
  {
   "cell_type": "markdown",
   "metadata": {},
   "source": [
    "We know ex ante that the Royal Rumble is a scripted event, i.e. that it is deterministic. The entrants are purported to be drawn at random. It *could* be the case that some, or all of the entrants are drawn at random, but it seems exceedingly unlikely given how critical specific storytelling elements are to the product. Anecdotally, I observed that many of the eliminations are between wrestlers in an existing feud, or one will emerge from the event. The first part of the analysis can look for predictions along this axis- how different do wrestlers' individual distributions on their entry number look compared to the discrete uniform distribution on {1,2,...,30}?\n",
    "My suspicion is that the best predictor of winning the Royal Rumble is *how many eliminations that wrestler has,* as the winner is intended to be a strong character who is featured prominently in the biggest wrestling events of the year. What other factors outside of the 'kayfabe world' (kayfabe is an insider wrestling term, essentially meaning in-storyline) determine whether or not an entrant will perform well or poorly? "
   ]
  },
  {
   "cell_type": "code",
   "execution_count": 1,
   "metadata": {},
   "outputs": [],
   "source": [
    "import numpy as np\n",
    "import pandas as pd\n",
    "import matplotlib.pyplot as plt\n",
    "import seaborn as sns\n",
    "%matplotlib inline"
   ]
  },
  {
   "cell_type": "code",
   "execution_count": 2,
   "metadata": {},
   "outputs": [],
   "source": [
    "RUMBLE_DATA = pd.read_csv('/home/christian/Desktop/Royal_Rumble_Analysis/RumbleData.csv').copy()\n",
    "\n",
    "def time_cleaner(time_string):\n",
    "    \"\"\"\n",
    "    Convert video timestamps into seconds\n",
    "    \"\"\"\n",
    "    return 3600*int(time_string[0]) + 60*int(time_string[1]) + int(time_string[2])\n",
    "\n",
    "RUMBLE_DATA['entry_time'] = RUMBLE_DATA['entry_time'].astype(str)\n",
    "RUMBLE_DATA['exit_time'] = RUMBLE_DATA['exit_time'].astype(str)\n",
    "ENTRY_TIME_SPLIT = RUMBLE_DATA['entry_time'].str.split(':')\n",
    "EXIT_TIME_SPLIT = RUMBLE_DATA['exit_time'].str.split(':')\n",
    "\n"
   ]
  },
  {
   "cell_type": "code",
   "execution_count": 3,
   "metadata": {},
   "outputs": [
    {
     "name": "stdout",
     "output_type": "stream",
     "text": [
      "Empty DataFrame\n",
      "Columns: [year, entry_num, exit_num, name, entry_time, exit_time, total_time, elim_by, solo_elim, group_elim, illegal_elim, alignment, tag_overlap, tag_team, tag_partner, illegal_exit, accidental_exit, cum_elim, avg_cum_elim, world_champ, Unnamed: 20, cum_time, avg_cum_time, prev_app, us_champ, cruise_champ, euro_champ]\n",
      "Index: []\n",
      "\n",
      "[0 rows x 27 columns]\n"
     ]
    }
   ],
   "source": [
    "print(RUMBLE_DATA.loc[RUMBLE_DATA['exit_time'].isna() == True])"
   ]
  },
  {
   "cell_type": "code",
   "execution_count": 4,
   "metadata": {},
   "outputs": [
    {
     "data": {
      "text/html": [
       "<div>\n",
       "<style scoped>\n",
       "    .dataframe tbody tr th:only-of-type {\n",
       "        vertical-align: middle;\n",
       "    }\n",
       "\n",
       "    .dataframe tbody tr th {\n",
       "        vertical-align: top;\n",
       "    }\n",
       "\n",
       "    .dataframe thead th {\n",
       "        text-align: right;\n",
       "    }\n",
       "</style>\n",
       "<table border=\"1\" class=\"dataframe\">\n",
       "  <thead>\n",
       "    <tr style=\"text-align: right;\">\n",
       "      <th></th>\n",
       "      <th>year</th>\n",
       "      <th>entry_num</th>\n",
       "      <th>exit_num</th>\n",
       "      <th>name</th>\n",
       "      <th>entry_time</th>\n",
       "      <th>exit_time</th>\n",
       "      <th>total_time</th>\n",
       "      <th>elim_by</th>\n",
       "      <th>solo_elim</th>\n",
       "      <th>group_elim</th>\n",
       "      <th>...</th>\n",
       "      <th>avg_cum_elim</th>\n",
       "      <th>world_champ</th>\n",
       "      <th>Unnamed: 20</th>\n",
       "      <th>cum_time</th>\n",
       "      <th>avg_cum_time</th>\n",
       "      <th>prev_app</th>\n",
       "      <th>us_champ</th>\n",
       "      <th>cruise_champ</th>\n",
       "      <th>euro_champ</th>\n",
       "      <th>total_elim</th>\n",
       "    </tr>\n",
       "  </thead>\n",
       "  <tbody>\n",
       "    <tr>\n",
       "      <td>0</td>\n",
       "      <td>1988</td>\n",
       "      <td>1</td>\n",
       "      <td>8</td>\n",
       "      <td>Bret Hart</td>\n",
       "      <td>0</td>\n",
       "      <td>1546</td>\n",
       "      <td>1546</td>\n",
       "      <td>Don Muraco</td>\n",
       "      <td>0</td>\n",
       "      <td>1</td>\n",
       "      <td>...</td>\n",
       "      <td>0.0</td>\n",
       "      <td>0</td>\n",
       "      <td>0.0</td>\n",
       "      <td>0.0</td>\n",
       "      <td>0.0</td>\n",
       "      <td>0.0</td>\n",
       "      <td>0.0</td>\n",
       "      <td>0.0</td>\n",
       "      <td>0.0</td>\n",
       "      <td>1</td>\n",
       "    </tr>\n",
       "    <tr>\n",
       "      <td>1</td>\n",
       "      <td>1988</td>\n",
       "      <td>2</td>\n",
       "      <td>2</td>\n",
       "      <td>Tito Santana</td>\n",
       "      <td>0</td>\n",
       "      <td>644</td>\n",
       "      <td>644</td>\n",
       "      <td>Bret Hart, Jim Neidhart</td>\n",
       "      <td>0</td>\n",
       "      <td>0</td>\n",
       "      <td>...</td>\n",
       "      <td>0.0</td>\n",
       "      <td>0</td>\n",
       "      <td>0.0</td>\n",
       "      <td>0.0</td>\n",
       "      <td>0.0</td>\n",
       "      <td>0.0</td>\n",
       "      <td>0.0</td>\n",
       "      <td>0.0</td>\n",
       "      <td>0.0</td>\n",
       "      <td>0</td>\n",
       "    </tr>\n",
       "    <tr>\n",
       "      <td>2</td>\n",
       "      <td>1988</td>\n",
       "      <td>3</td>\n",
       "      <td>1</td>\n",
       "      <td>Butch Reed</td>\n",
       "      <td>128</td>\n",
       "      <td>325</td>\n",
       "      <td>197</td>\n",
       "      <td>Jake Roberts</td>\n",
       "      <td>0</td>\n",
       "      <td>0</td>\n",
       "      <td>...</td>\n",
       "      <td>0.0</td>\n",
       "      <td>0</td>\n",
       "      <td>0.0</td>\n",
       "      <td>0.0</td>\n",
       "      <td>0.0</td>\n",
       "      <td>0.0</td>\n",
       "      <td>0.0</td>\n",
       "      <td>0.0</td>\n",
       "      <td>0.0</td>\n",
       "      <td>0</td>\n",
       "    </tr>\n",
       "    <tr>\n",
       "      <td>3</td>\n",
       "      <td>1988</td>\n",
       "      <td>4</td>\n",
       "      <td>6</td>\n",
       "      <td>Jim Neidhart</td>\n",
       "      <td>230</td>\n",
       "      <td>1376</td>\n",
       "      <td>1146</td>\n",
       "      <td>Hillbilly Jim</td>\n",
       "      <td>0</td>\n",
       "      <td>1</td>\n",
       "      <td>...</td>\n",
       "      <td>0.0</td>\n",
       "      <td>0</td>\n",
       "      <td>0.0</td>\n",
       "      <td>0.0</td>\n",
       "      <td>0.0</td>\n",
       "      <td>0.0</td>\n",
       "      <td>0.0</td>\n",
       "      <td>0.0</td>\n",
       "      <td>0.0</td>\n",
       "      <td>1</td>\n",
       "    </tr>\n",
       "    <tr>\n",
       "      <td>4</td>\n",
       "      <td>1988</td>\n",
       "      <td>5</td>\n",
       "      <td>10</td>\n",
       "      <td>Jake Roberts</td>\n",
       "      <td>321</td>\n",
       "      <td>1634</td>\n",
       "      <td>1313</td>\n",
       "      <td>One Man Gang</td>\n",
       "      <td>1</td>\n",
       "      <td>1</td>\n",
       "      <td>...</td>\n",
       "      <td>0.0</td>\n",
       "      <td>0</td>\n",
       "      <td>0.0</td>\n",
       "      <td>0.0</td>\n",
       "      <td>0.0</td>\n",
       "      <td>0.0</td>\n",
       "      <td>0.0</td>\n",
       "      <td>0.0</td>\n",
       "      <td>0.0</td>\n",
       "      <td>2</td>\n",
       "    </tr>\n",
       "    <tr>\n",
       "      <td>...</td>\n",
       "      <td>...</td>\n",
       "      <td>...</td>\n",
       "      <td>...</td>\n",
       "      <td>...</td>\n",
       "      <td>...</td>\n",
       "      <td>...</td>\n",
       "      <td>...</td>\n",
       "      <td>...</td>\n",
       "      <td>...</td>\n",
       "      <td>...</td>\n",
       "      <td>...</td>\n",
       "      <td>...</td>\n",
       "      <td>...</td>\n",
       "      <td>...</td>\n",
       "      <td>...</td>\n",
       "      <td>...</td>\n",
       "      <td>...</td>\n",
       "      <td>...</td>\n",
       "      <td>...</td>\n",
       "      <td>...</td>\n",
       "      <td>...</td>\n",
       "    </tr>\n",
       "    <tr>\n",
       "      <td>285</td>\n",
       "      <td>1997</td>\n",
       "      <td>26</td>\n",
       "      <td>25</td>\n",
       "      <td>Mankind</td>\n",
       "      <td>2235</td>\n",
       "      <td>2971</td>\n",
       "      <td>736</td>\n",
       "      <td>The Undertaker</td>\n",
       "      <td>2</td>\n",
       "      <td>0</td>\n",
       "      <td>...</td>\n",
       "      <td>0.0</td>\n",
       "      <td>0</td>\n",
       "      <td>0.0</td>\n",
       "      <td>0.0</td>\n",
       "      <td>0.0</td>\n",
       "      <td>0.0</td>\n",
       "      <td>0.0</td>\n",
       "      <td>0.0</td>\n",
       "      <td>0.0</td>\n",
       "      <td>2</td>\n",
       "    </tr>\n",
       "    <tr>\n",
       "      <td>286</td>\n",
       "      <td>1997</td>\n",
       "      <td>27</td>\n",
       "      <td>21</td>\n",
       "      <td>Flash Funk</td>\n",
       "      <td>2312</td>\n",
       "      <td>2683</td>\n",
       "      <td>371</td>\n",
       "      <td>Vader</td>\n",
       "      <td>0</td>\n",
       "      <td>0</td>\n",
       "      <td>...</td>\n",
       "      <td>0.0</td>\n",
       "      <td>0</td>\n",
       "      <td>0.0</td>\n",
       "      <td>0.0</td>\n",
       "      <td>0.0</td>\n",
       "      <td>0.0</td>\n",
       "      <td>0.0</td>\n",
       "      <td>0.0</td>\n",
       "      <td>0.0</td>\n",
       "      <td>0</td>\n",
       "    </tr>\n",
       "    <tr>\n",
       "      <td>287</td>\n",
       "      <td>1997</td>\n",
       "      <td>28</td>\n",
       "      <td>26</td>\n",
       "      <td>Vader</td>\n",
       "      <td>2414</td>\n",
       "      <td>3017</td>\n",
       "      <td>603</td>\n",
       "      <td>Stone Cold Steve Austin</td>\n",
       "      <td>1</td>\n",
       "      <td>0</td>\n",
       "      <td>...</td>\n",
       "      <td>0.0</td>\n",
       "      <td>1</td>\n",
       "      <td>0.0</td>\n",
       "      <td>0.0</td>\n",
       "      <td>0.0</td>\n",
       "      <td>0.0</td>\n",
       "      <td>0.0</td>\n",
       "      <td>0.0</td>\n",
       "      <td>0.0</td>\n",
       "      <td>1</td>\n",
       "    </tr>\n",
       "    <tr>\n",
       "      <td>288</td>\n",
       "      <td>1997</td>\n",
       "      <td>29</td>\n",
       "      <td>22</td>\n",
       "      <td>Henry O. Godwinn</td>\n",
       "      <td>2497</td>\n",
       "      <td>2868</td>\n",
       "      <td>371</td>\n",
       "      <td>The Undertaker</td>\n",
       "      <td>0</td>\n",
       "      <td>0</td>\n",
       "      <td>...</td>\n",
       "      <td>0.0</td>\n",
       "      <td>0</td>\n",
       "      <td>0.0</td>\n",
       "      <td>0.0</td>\n",
       "      <td>0.0</td>\n",
       "      <td>0.0</td>\n",
       "      <td>0.0</td>\n",
       "      <td>0.0</td>\n",
       "      <td>0.0</td>\n",
       "      <td>0</td>\n",
       "    </tr>\n",
       "    <tr>\n",
       "      <td>289</td>\n",
       "      <td>1997</td>\n",
       "      <td>30</td>\n",
       "      <td>27</td>\n",
       "      <td>The Undertaker</td>\n",
       "      <td>2612</td>\n",
       "      <td>3018</td>\n",
       "      <td>406</td>\n",
       "      <td>Stone Cold Steve Austin</td>\n",
       "      <td>2</td>\n",
       "      <td>0</td>\n",
       "      <td>...</td>\n",
       "      <td>0.0</td>\n",
       "      <td>1</td>\n",
       "      <td>0.0</td>\n",
       "      <td>0.0</td>\n",
       "      <td>0.0</td>\n",
       "      <td>0.0</td>\n",
       "      <td>0.0</td>\n",
       "      <td>0.0</td>\n",
       "      <td>0.0</td>\n",
       "      <td>2</td>\n",
       "    </tr>\n",
       "  </tbody>\n",
       "</table>\n",
       "<p>290 rows × 28 columns</p>\n",
       "</div>"
      ],
      "text/plain": [
       "     year  entry_num  exit_num              name  entry_time  exit_time  \\\n",
       "0    1988          1         8         Bret Hart           0       1546   \n",
       "1    1988          2         2      Tito Santana           0        644   \n",
       "2    1988          3         1        Butch Reed         128        325   \n",
       "3    1988          4         6      Jim Neidhart         230       1376   \n",
       "4    1988          5        10      Jake Roberts         321       1634   \n",
       "..    ...        ...       ...               ...         ...        ...   \n",
       "285  1997         26        25           Mankind        2235       2971   \n",
       "286  1997         27        21        Flash Funk        2312       2683   \n",
       "287  1997         28        26             Vader        2414       3017   \n",
       "288  1997         29        22  Henry O. Godwinn        2497       2868   \n",
       "289  1997         30        27    The Undertaker        2612       3018   \n",
       "\n",
       "     total_time                  elim_by  solo_elim  group_elim  ...  \\\n",
       "0          1546               Don Muraco          0           1  ...   \n",
       "1           644  Bret Hart, Jim Neidhart          0           0  ...   \n",
       "2           197             Jake Roberts          0           0  ...   \n",
       "3          1146            Hillbilly Jim          0           1  ...   \n",
       "4          1313             One Man Gang          1           1  ...   \n",
       "..          ...                      ...        ...         ...  ...   \n",
       "285         736           The Undertaker          2           0  ...   \n",
       "286         371                    Vader          0           0  ...   \n",
       "287         603  Stone Cold Steve Austin          1           0  ...   \n",
       "288         371           The Undertaker          0           0  ...   \n",
       "289         406  Stone Cold Steve Austin          2           0  ...   \n",
       "\n",
       "     avg_cum_elim world_champ  Unnamed: 20  cum_time avg_cum_time  prev_app  \\\n",
       "0             0.0           0          0.0       0.0          0.0       0.0   \n",
       "1             0.0           0          0.0       0.0          0.0       0.0   \n",
       "2             0.0           0          0.0       0.0          0.0       0.0   \n",
       "3             0.0           0          0.0       0.0          0.0       0.0   \n",
       "4             0.0           0          0.0       0.0          0.0       0.0   \n",
       "..            ...         ...          ...       ...          ...       ...   \n",
       "285           0.0           0          0.0       0.0          0.0       0.0   \n",
       "286           0.0           0          0.0       0.0          0.0       0.0   \n",
       "287           0.0           1          0.0       0.0          0.0       0.0   \n",
       "288           0.0           0          0.0       0.0          0.0       0.0   \n",
       "289           0.0           1          0.0       0.0          0.0       0.0   \n",
       "\n",
       "     us_champ  cruise_champ  euro_champ  total_elim  \n",
       "0         0.0           0.0         0.0           1  \n",
       "1         0.0           0.0         0.0           0  \n",
       "2         0.0           0.0         0.0           0  \n",
       "3         0.0           0.0         0.0           1  \n",
       "4         0.0           0.0         0.0           2  \n",
       "..        ...           ...         ...         ...  \n",
       "285       0.0           0.0         0.0           2  \n",
       "286       0.0           0.0         0.0           0  \n",
       "287       0.0           0.0         0.0           1  \n",
       "288       0.0           0.0         0.0           0  \n",
       "289       0.0           0.0         0.0           2  \n",
       "\n",
       "[290 rows x 28 columns]"
      ]
     },
     "execution_count": 4,
     "metadata": {},
     "output_type": "execute_result"
    }
   ],
   "source": [
    "\n",
    "FRUMBLE_DATA = pd.read_csv('/home/christian/Desktop/Royal_Rumble_Analysis/RumbleData.csv').copy()\n",
    "\n",
    "def time_cleaner(time_string):\n",
    "    \"\"\"\n",
    "    Convert video timestamps into seconds\n",
    "    \"\"\"\n",
    "    return 3600*int(time_string[0]) + 60*int(time_string[1]) + int(time_string[2])\n",
    "\n",
    "RUMBLE_DATA['entry_time'] = RUMBLE_DATA['entry_time'].astype(str)\n",
    "RUMBLE_DATA['exit_time'] = RUMBLE_DATA['exit_time'].astype(str)\n",
    "ENTRY_TIME_SPLIT = RUMBLE_DATA['entry_time'].str.split(':')\n",
    "EXIT_TIME_SPLIT = RUMBLE_DATA['exit_time'].str.split(':')\n",
    "\n",
    "RUMBLE_DATA['entry_time'] = ENTRY_TIME_SPLIT.apply(time_cleaner)\n",
    "RUMBLE_DATA['exit_time'] = EXIT_TIME_SPLIT.apply(time_cleaner)\n",
    "\n",
    "for year in RUMBLE_DATA['year'].unique():\n",
    "    RUMBLE_DATA.loc[RUMBLE_DATA['year'] == year, 'exit_time'] = (RUMBLE_DATA.loc[RUMBLE_DATA['year'] == year, 'exit_time'] -\n",
    "                                                                RUMBLE_DATA.loc[RUMBLE_DATA['year'] == year, 'entry_time'].min())\n",
    "    \n",
    "    RUMBLE_DATA.loc[RUMBLE_DATA['year'] == year, 'entry_time'] = (RUMBLE_DATA.loc[RUMBLE_DATA['year'] == year, 'entry_time'] -\n",
    "                                                                  RUMBLE_DATA.loc[RUMBLE_DATA['year'] == year, 'entry_time'].min())\n",
    "\n",
    "    \n",
    "\n",
    "RUMBLE_DATA['total_time'] = RUMBLE_DATA['exit_time'] - RUMBLE_DATA['entry_time']\n",
    "RUMBLE_DATA['total_elim'] = (RUMBLE_DATA['solo_elim'] + RUMBLE_DATA['group_elim'] + \n",
    "                             RUMBLE_DATA['illegal_elim'])\n",
    "\n",
    "MATCH_DATA = pd.DataFrame()\n",
    "\n",
    "for year in RUMBLE_DATA['year'].unique():\n",
    "    entry_times = RUMBLE_DATA.loc[RUMBLE_DATA['year'] == year, 'entry_time'].unique().tolist()\n",
    "    exit_times = RUMBLE_DATA.loc[RUMBLE_DATA['year'] == year, 'exit_time'].unique().tolist()\n",
    "    split_times = entry_times + exit_times\n",
    "    split_times.sort()\n",
    "    year_list = []\n",
    "    for i in range(len(split_times)):\n",
    "        year_list.append(year)\n",
    "    year_series = pd.Series(year_list)\n",
    "    split_series = pd.Series(split_times)\n",
    "    year_split = pd.concat([year_series, split_series], axis=1)\n",
    "    MATCH_DATA = pd.concat([MATCH_DATA, year_split], axis=0)\n",
    "\n",
    "MATCH_DATA.columns = ['year', 'split']\n",
    "\n",
    "RUMBLE_DATA.fillna(0)"
   ]
  },
  {
   "cell_type": "markdown",
   "metadata": {},
   "source": [
    "From randomly sampling the different wrestlers, I was able to hone in on a couple of important trends. For some wrestlers, the distribution looks *reasonably* random. You can discern a pattern from the distribution below, but it's not terribly strong."
   ]
  },
  {
   "cell_type": "code",
   "execution_count": 5,
   "metadata": {},
   "outputs": [
    {
     "data": {
      "text/plain": [
       "(1988, 1997)"
      ]
     },
     "execution_count": 5,
     "metadata": {},
     "output_type": "execute_result"
    },
    {
     "data": {
      "image/png": "[encoded data removed]",
      "text/plain": [
       "<Figure size 432x288 with 1 Axes>"
      ]
     },
     "metadata": {
      "needs_background": "light"
     },
     "output_type": "display_data"
    }
   ],
   "source": [
    "sns.scatterplot(x = 'year', y = 'entry_num', data = RUMBLE_DATA.loc[RUMBLE_DATA['name'] == 'Greg Valentine'])\n",
    "plt.ylim(0,30)\n",
    "plt.xlim(1988,1997)\n"
   ]
  },
  {
   "cell_type": "markdown",
   "metadata": {},
   "source": [
    "For others, not so much. The two sets of plots below are for Jimmy Snuka and Tatanka respectively. Jimmy Snuka's prime was in the 70's and early 80's, whereas Tatanka was a wrestler who was consistently an undercard or midcard act. In either case, these are wrestlers that the fans *know* are not going to win the Royal Rumble- who don't stand a reasonable chance of winning, and who aren't going to make many eliminations. These wrestlers won't typically appear in the match for a long time- it's their job to make the big names look good. The first plot shows their entry number in each year that they entered, while the next plot has their entry number stacked next to their eliminations and the amount of time they spend in the match."
   ]
  },
  {
   "cell_type": "code",
   "execution_count": 6,
   "metadata": {},
   "outputs": [
    {
     "data": {
      "text/plain": [
       "(1988, 1997)"
      ]
     },
     "execution_count": 6,
     "metadata": {},
     "output_type": "execute_result"
    },
    {
     "data": {
      "image/png": "[encoded data removed]",
      "text/plain": [
       "<Figure size 432x288 with 1 Axes>"
      ]
     },
     "metadata": {
      "needs_background": "light"
     },
     "output_type": "display_data"
    }
   ],
   "source": [
    "sns.scatterplot(x = 'year', y = 'entry_num', data = RUMBLE_DATA.loc[RUMBLE_DATA['name'] == 'Jimmy Snuka'])\n",
    "plt.ylim(0,30)\n",
    "plt.xlim(1988,1997)\n"
   ]
  },
  {
   "cell_type": "markdown",
   "metadata": {},
   "source": [
    "A very tight cluster in the middle."
   ]
  },
  {
   "cell_type": "code",
   "execution_count": 7,
   "metadata": {},
   "outputs": [
    {
     "data": {
      "image/png": "[encoded data removed]",
      "text/plain": [
       "<Figure size 432x288 with 3 Axes>"
      ]
     },
     "metadata": {
      "needs_background": "light"
     },
     "output_type": "display_data"
    }
   ],
   "source": [
    "plt.subplot(1,3,1)\n",
    "sns.scatterplot(x = 'year', y = 'entry_num', data = RUMBLE_DATA.loc[RUMBLE_DATA['name'] == 'Jimmy Snuka'])\n",
    "plt.ylim(0,30)\n",
    "plt.xlim(1988,1997)\n",
    "\n",
    "plt.subplot(1,3,2)\n",
    "sns.scatterplot(x = 'year', y = 'total_elim', data = RUMBLE_DATA.loc[RUMBLE_DATA['name'] == 'Jimmy Snuka'])\n",
    "plt.ylim(0,5)\n",
    "plt.xlim(1988,1997)\n",
    "\n",
    "plt.subplot(1,3,3)\n",
    "sns.scatterplot(x = 'year', y = 'total_time', data = RUMBLE_DATA.loc[RUMBLE_DATA['name'] == 'Jimmy Snuka'])\n",
    "plt.xlim(1988,1997)\n",
    "plt.ylim(0,3600)\n",
    "plt.tight_layout()"
   ]
  },
  {
   "cell_type": "code",
   "execution_count": 8,
   "metadata": {},
   "outputs": [
    {
     "data": {
      "text/plain": [
       "(1988, 1997)"
      ]
     },
     "execution_count": 8,
     "metadata": {},
     "output_type": "execute_result"
    },
    {
     "data": {
      "image/png": "[encoded data removed]",
      "text/plain": [
       "<Figure size 432x288 with 1 Axes>"
      ]
     },
     "metadata": {
      "needs_background": "light"
     },
     "output_type": "display_data"
    }
   ],
   "source": [
    "sns.scatterplot(x = 'year', y = 'entry_num', data = RUMBLE_DATA.loc[RUMBLE_DATA['name'] == 'Tatanka'])\n",
    "plt.ylim(0,30)\n",
    "plt.xlim(1988,1997)"
   ]
  },
  {
   "cell_type": "markdown",
   "metadata": {},
   "source": [
    "Small samples can do strange things, but I'm very skeptical that Tatanka was randomly drawn into this cluster! "
   ]
  },
  {
   "cell_type": "code",
   "execution_count": 9,
   "metadata": {},
   "outputs": [
    {
     "data": {
      "image/png": "[encoded data removed]",
      "text/plain": [
       "<Figure size 432x288 with 3 Axes>"
      ]
     },
     "metadata": {
      "needs_background": "light"
     },
     "output_type": "display_data"
    }
   ],
   "source": [
    "plt.subplot(1,3,1)\n",
    "sns.scatterplot(x = 'year', y = 'entry_num', data = RUMBLE_DATA.loc[RUMBLE_DATA['name'] == 'Tatanka'])\n",
    "plt.ylim(0,30)\n",
    "plt.xlim(1988,1997)\n",
    "\n",
    "plt.subplot(1,3,2)\n",
    "sns.scatterplot(x = 'year', y = 'total_elim', data = RUMBLE_DATA.loc[RUMBLE_DATA['name'] == 'Tatanka'])\n",
    "plt.ylim(0,10)\n",
    "plt.xlim(1988,1997)\n",
    "\n",
    "plt.subplot(1,3,3)\n",
    "sns.scatterplot(x = 'year', y = 'total_time', data = RUMBLE_DATA.loc[RUMBLE_DATA['name'] == 'Tatanka'])\n",
    "plt.xlim(1988,1997)\n",
    "plt.ylim(0,3600)\n",
    "plt.tight_layout()"
   ]
  },
  {
   "cell_type": "markdown",
   "metadata": {},
   "source": [
    "We can contrast this with Bret Hart and Shawn Michaels, who are two of the most famous and successful wrestlers of this era. Both won Royal Rumbles (Hart in '94, Michaels in '95 and '96), but both also spend the late 80's and early 90's as members of tag teams- not at the top of the card. There are gaps missing for Bret Hart due to his having other prominent matches on the Royal Rumble card in the years 1989, 1993, 1995, and 1996, and similarly for Shawn Michaels in 1991 and 1993."
   ]
  },
  {
   "cell_type": "code",
   "execution_count": 10,
   "metadata": {},
   "outputs": [
    {
     "data": {
      "text/plain": [
       "(1988, 1997)"
      ]
     },
     "execution_count": 10,
     "metadata": {},
     "output_type": "execute_result"
    },
    {
     "data": {
      "image/png": "[encoded data removed]",
      "text/plain": [
       "<Figure size 432x288 with 1 Axes>"
      ]
     },
     "metadata": {
      "needs_background": "light"
     },
     "output_type": "display_data"
    }
   ],
   "source": [
    "sns.scatterplot(x = 'year', y = 'entry_num', data = RUMBLE_DATA.loc[RUMBLE_DATA['name'] == 'Bret Hart'])\n",
    "plt.ylim(0,30)\n",
    "plt.xlim(1988,1997)\n"
   ]
  },
  {
   "cell_type": "markdown",
   "metadata": {},
   "source": [
    "What we observe here is a trend that seems to appear for many of the big names- a sort of bifurcation. These wrestlers tend to appear in the very beginning or towards the very end of the Royal Rumble."
   ]
  },
  {
   "cell_type": "code",
   "execution_count": 11,
   "metadata": {},
   "outputs": [
    {
     "data": {
      "image/png": "[encoded data removed]",
      "text/plain": [
       "<Figure size 432x288 with 3 Axes>"
      ]
     },
     "metadata": {
      "needs_background": "light"
     },
     "output_type": "display_data"
    }
   ],
   "source": [
    "plt.subplot(1,3,1)\n",
    "sns.scatterplot(x = 'year', y = 'entry_num', data = RUMBLE_DATA.loc[RUMBLE_DATA['name'] == 'Bret Hart'])\n",
    "plt.ylim(0,30)\n",
    "plt.xlim(1988,1997)\n",
    "\n",
    "plt.subplot(1,3,2)\n",
    "sns.scatterplot(x = 'year', y = 'total_elim', data = RUMBLE_DATA.loc[RUMBLE_DATA['name'] == 'Bret Hart'])\n",
    "plt.ylim(0,10)\n",
    "plt.xlim(1988,1997)\n",
    "\n",
    "plt.subplot(1,3,3)\n",
    "sns.scatterplot(x = 'year', y = 'total_time', data = RUMBLE_DATA.loc[RUMBLE_DATA['name'] == 'Bret Hart'])\n",
    "plt.xlim(1988,1997)\n",
    "plt.ylim(0,3600)\n",
    "plt.tight_layout()"
   ]
  },
  {
   "cell_type": "markdown",
   "metadata": {},
   "source": [
    "Now, the scale is the same across all of these plots- Bret Hart's total time in the Royal Rumble was, in general, between 1000 and 1500 seconds (16-25 minutes). Tatanka's times above are certainly, and statistically significantlly worse than this- but not *drastically* so. A close look at the dataframe might help inform our analysis."
   ]
  },
  {
   "cell_type": "code",
   "execution_count": 12,
   "metadata": {},
   "outputs": [
    {
     "data": {
      "text/html": [
       "<div>\n",
       "<style scoped>\n",
       "    .dataframe tbody tr th:only-of-type {\n",
       "        vertical-align: middle;\n",
       "    }\n",
       "\n",
       "    .dataframe tbody tr th {\n",
       "        vertical-align: top;\n",
       "    }\n",
       "\n",
       "    .dataframe thead th {\n",
       "        text-align: right;\n",
       "    }\n",
       "</style>\n",
       "<table border=\"1\" class=\"dataframe\">\n",
       "  <thead>\n",
       "    <tr style=\"text-align: right;\">\n",
       "      <th></th>\n",
       "      <th>year</th>\n",
       "      <th>entry_num</th>\n",
       "      <th>exit_num</th>\n",
       "      <th>name</th>\n",
       "      <th>entry_time</th>\n",
       "      <th>exit_time</th>\n",
       "      <th>total_time</th>\n",
       "      <th>elim_by</th>\n",
       "      <th>solo_elim</th>\n",
       "      <th>group_elim</th>\n",
       "      <th>...</th>\n",
       "      <th>avg_cum_elim</th>\n",
       "      <th>world_champ</th>\n",
       "      <th>Unnamed: 20</th>\n",
       "      <th>cum_time</th>\n",
       "      <th>avg_cum_time</th>\n",
       "      <th>prev_app</th>\n",
       "      <th>us_champ</th>\n",
       "      <th>cruise_champ</th>\n",
       "      <th>euro_champ</th>\n",
       "      <th>total_elim</th>\n",
       "    </tr>\n",
       "  </thead>\n",
       "  <tbody>\n",
       "    <tr>\n",
       "      <td>0</td>\n",
       "      <td>1988</td>\n",
       "      <td>1</td>\n",
       "      <td>8</td>\n",
       "      <td>Bret Hart</td>\n",
       "      <td>0</td>\n",
       "      <td>1546</td>\n",
       "      <td>1546</td>\n",
       "      <td>Don Muraco</td>\n",
       "      <td>0</td>\n",
       "      <td>1</td>\n",
       "      <td>...</td>\n",
       "      <td>0.0</td>\n",
       "      <td>0</td>\n",
       "      <td>NaN</td>\n",
       "      <td>NaN</td>\n",
       "      <td>NaN</td>\n",
       "      <td>NaN</td>\n",
       "      <td>0.0</td>\n",
       "      <td>0.0</td>\n",
       "      <td>0.0</td>\n",
       "      <td>1</td>\n",
       "    </tr>\n",
       "    <tr>\n",
       "      <td>57</td>\n",
       "      <td>1990</td>\n",
       "      <td>8</td>\n",
       "      <td>9</td>\n",
       "      <td>Bret Hart</td>\n",
       "      <td>721</td>\n",
       "      <td>1699</td>\n",
       "      <td>978</td>\n",
       "      <td>Dusty Rhodes</td>\n",
       "      <td>0</td>\n",
       "      <td>0</td>\n",
       "      <td>...</td>\n",
       "      <td>NaN</td>\n",
       "      <td>1</td>\n",
       "      <td>NaN</td>\n",
       "      <td>NaN</td>\n",
       "      <td>NaN</td>\n",
       "      <td>NaN</td>\n",
       "      <td>0.0</td>\n",
       "      <td>NaN</td>\n",
       "      <td>NaN</td>\n",
       "      <td>0</td>\n",
       "    </tr>\n",
       "    <tr>\n",
       "      <td>80</td>\n",
       "      <td>1991</td>\n",
       "      <td>1</td>\n",
       "      <td>4</td>\n",
       "      <td>Bret Hart</td>\n",
       "      <td>0</td>\n",
       "      <td>1238</td>\n",
       "      <td>1238</td>\n",
       "      <td>The Undertaker</td>\n",
       "      <td>0</td>\n",
       "      <td>0</td>\n",
       "      <td>...</td>\n",
       "      <td>NaN</td>\n",
       "      <td>0</td>\n",
       "      <td>NaN</td>\n",
       "      <td>NaN</td>\n",
       "      <td>NaN</td>\n",
       "      <td>NaN</td>\n",
       "      <td>0.0</td>\n",
       "      <td>NaN</td>\n",
       "      <td>NaN</td>\n",
       "      <td>0</td>\n",
       "    </tr>\n",
       "    <tr>\n",
       "      <td>158</td>\n",
       "      <td>1993</td>\n",
       "      <td>19</td>\n",
       "      <td>20</td>\n",
       "      <td>Tatanka</td>\n",
       "      <td>2073</td>\n",
       "      <td>3086</td>\n",
       "      <td>1013</td>\n",
       "      <td>Yokozuna</td>\n",
       "      <td>0</td>\n",
       "      <td>0</td>\n",
       "      <td>...</td>\n",
       "      <td>NaN</td>\n",
       "      <td>0</td>\n",
       "      <td>NaN</td>\n",
       "      <td>NaN</td>\n",
       "      <td>NaN</td>\n",
       "      <td>NaN</td>\n",
       "      <td>NaN</td>\n",
       "      <td>NaN</td>\n",
       "      <td>NaN</td>\n",
       "      <td>0</td>\n",
       "    </tr>\n",
       "    <tr>\n",
       "      <td>190</td>\n",
       "      <td>1994</td>\n",
       "      <td>21</td>\n",
       "      <td>23</td>\n",
       "      <td>Tatanka</td>\n",
       "      <td>1807</td>\n",
       "      <td>3016</td>\n",
       "      <td>1209</td>\n",
       "      <td>Bam Bam Bigelow</td>\n",
       "      <td>1</td>\n",
       "      <td>1</td>\n",
       "      <td>...</td>\n",
       "      <td>NaN</td>\n",
       "      <td>0</td>\n",
       "      <td>NaN</td>\n",
       "      <td>NaN</td>\n",
       "      <td>NaN</td>\n",
       "      <td>NaN</td>\n",
       "      <td>NaN</td>\n",
       "      <td>NaN</td>\n",
       "      <td>NaN</td>\n",
       "      <td>2</td>\n",
       "    </tr>\n",
       "    <tr>\n",
       "      <td>196</td>\n",
       "      <td>1994</td>\n",
       "      <td>27</td>\n",
       "      <td>29</td>\n",
       "      <td>Bret Hart</td>\n",
       "      <td>2409</td>\n",
       "      <td>3307</td>\n",
       "      <td>898</td>\n",
       "      <td>Lex Luger</td>\n",
       "      <td>2</td>\n",
       "      <td>2</td>\n",
       "      <td>...</td>\n",
       "      <td>NaN</td>\n",
       "      <td>1</td>\n",
       "      <td>NaN</td>\n",
       "      <td>NaN</td>\n",
       "      <td>NaN</td>\n",
       "      <td>NaN</td>\n",
       "      <td>NaN</td>\n",
       "      <td>NaN</td>\n",
       "      <td>NaN</td>\n",
       "      <td>4</td>\n",
       "    </tr>\n",
       "    <tr>\n",
       "      <td>249</td>\n",
       "      <td>1996</td>\n",
       "      <td>20</td>\n",
       "      <td>17</td>\n",
       "      <td>Tatanka</td>\n",
       "      <td>2213</td>\n",
       "      <td>2461</td>\n",
       "      <td>248</td>\n",
       "      <td>Diesel</td>\n",
       "      <td>1</td>\n",
       "      <td>0</td>\n",
       "      <td>...</td>\n",
       "      <td>NaN</td>\n",
       "      <td>0</td>\n",
       "      <td>NaN</td>\n",
       "      <td>NaN</td>\n",
       "      <td>NaN</td>\n",
       "      <td>NaN</td>\n",
       "      <td>NaN</td>\n",
       "      <td>NaN</td>\n",
       "      <td>NaN</td>\n",
       "      <td>1</td>\n",
       "    </tr>\n",
       "    <tr>\n",
       "      <td>280</td>\n",
       "      <td>1997</td>\n",
       "      <td>21</td>\n",
       "      <td>29</td>\n",
       "      <td>Bret Hart</td>\n",
       "      <td>1767</td>\n",
       "      <td>3027</td>\n",
       "      <td>1260</td>\n",
       "      <td>Stone Cold Steve Austin</td>\n",
       "      <td>2</td>\n",
       "      <td>0</td>\n",
       "      <td>...</td>\n",
       "      <td>NaN</td>\n",
       "      <td>1</td>\n",
       "      <td>NaN</td>\n",
       "      <td>NaN</td>\n",
       "      <td>NaN</td>\n",
       "      <td>NaN</td>\n",
       "      <td>NaN</td>\n",
       "      <td>NaN</td>\n",
       "      <td>NaN</td>\n",
       "      <td>2</td>\n",
       "    </tr>\n",
       "  </tbody>\n",
       "</table>\n",
       "<p>8 rows × 28 columns</p>\n",
       "</div>"
      ],
      "text/plain": [
       "     year  entry_num  exit_num       name  entry_time  exit_time  total_time  \\\n",
       "0    1988          1         8  Bret Hart           0       1546        1546   \n",
       "57   1990          8         9  Bret Hart         721       1699         978   \n",
       "80   1991          1         4  Bret Hart           0       1238        1238   \n",
       "158  1993         19        20    Tatanka        2073       3086        1013   \n",
       "190  1994         21        23    Tatanka        1807       3016        1209   \n",
       "196  1994         27        29  Bret Hart        2409       3307         898   \n",
       "249  1996         20        17    Tatanka        2213       2461         248   \n",
       "280  1997         21        29  Bret Hart        1767       3027        1260   \n",
       "\n",
       "                     elim_by  solo_elim  group_elim  ...  avg_cum_elim  \\\n",
       "0                 Don Muraco          0           1  ...           0.0   \n",
       "57              Dusty Rhodes          0           0  ...           NaN   \n",
       "80            The Undertaker          0           0  ...           NaN   \n",
       "158                 Yokozuna          0           0  ...           NaN   \n",
       "190          Bam Bam Bigelow          1           1  ...           NaN   \n",
       "196                Lex Luger          2           2  ...           NaN   \n",
       "249                   Diesel          1           0  ...           NaN   \n",
       "280  Stone Cold Steve Austin          2           0  ...           NaN   \n",
       "\n",
       "    world_champ  Unnamed: 20  cum_time avg_cum_time  prev_app  us_champ  \\\n",
       "0             0          NaN       NaN          NaN       NaN       0.0   \n",
       "57            1          NaN       NaN          NaN       NaN       0.0   \n",
       "80            0          NaN       NaN          NaN       NaN       0.0   \n",
       "158           0          NaN       NaN          NaN       NaN       NaN   \n",
       "190           0          NaN       NaN          NaN       NaN       NaN   \n",
       "196           1          NaN       NaN          NaN       NaN       NaN   \n",
       "249           0          NaN       NaN          NaN       NaN       NaN   \n",
       "280           1          NaN       NaN          NaN       NaN       NaN   \n",
       "\n",
       "     cruise_champ  euro_champ  total_elim  \n",
       "0             0.0         0.0           1  \n",
       "57            NaN         NaN           0  \n",
       "80            NaN         NaN           0  \n",
       "158           NaN         NaN           0  \n",
       "190           NaN         NaN           2  \n",
       "196           NaN         NaN           4  \n",
       "249           NaN         NaN           1  \n",
       "280           NaN         NaN           2  \n",
       "\n",
       "[8 rows x 28 columns]"
      ]
     },
     "execution_count": 12,
     "metadata": {},
     "output_type": "execute_result"
    }
   ],
   "source": [
    "RUMBLE_DATA.loc[(RUMBLE_DATA['name'] == 'Bret Hart') | (RUMBLE_DATA['name'] == 'Tatanka')]"
   ]
  },
  {
   "cell_type": "markdown",
   "metadata": {},
   "source": [
    "Some of the  qualitative differences jump out immediately.  In the years 1993 and 1994, Tatanka spent 15-18 or so minutes in the Royal Rumble, but didn't seem to do anything too significant in that time- he had 2 eliminations in 1994, but his entry number never drifts very far from his exit number. There are two important observations therein. One is that, as entry number increases, the floor on your exit number increases. If you are the last entrant, as Duke Droese in 1996 (a literal wrestling garbage man), you will necessarily have a higher exit number than a significant proportion than those who came before you. This means that we *have to derive a performance metric that normalizes time spent in the ring.* This is imperative if we want to use time series elements to try and predict the *entry* order. Some wrestlers are trusted to spend a great deal of time in the ring and act as a general- and we would anticipate wrestlers who fit that mold to be entered earlier than later. If the trend that's appeared in this small portion of the data continues- i.e. that the star athletes will enter in the beginning or in the end, that should be reflected in the regression predictions."
   ]
  },
  {
   "cell_type": "code",
   "execution_count": 13,
   "metadata": {},
   "outputs": [
    {
     "data": {
      "image/png": "[encoded data removed]",
      "text/plain": [
       "<Figure size 432x288 with 3 Axes>"
      ]
     },
     "metadata": {
      "needs_background": "light"
     },
     "output_type": "display_data"
    }
   ],
   "source": [
    "plt.subplot(1,3,1)\n",
    "sns.scatterplot(x = 'year', y = 'entry_num', data = RUMBLE_DATA.loc[RUMBLE_DATA['name'] == 'Shawn Michaels'])\n",
    "plt.ylim(0,30)\n",
    "plt.xlim(1989,1997)\n",
    "\n",
    "plt.subplot(1,3,2)\n",
    "sns.scatterplot(x = 'year', y = 'total_elim', data = RUMBLE_DATA.loc[RUMBLE_DATA['name'] == 'Shawn Michaels'])\n",
    "plt.ylim(0,10)\n",
    "plt.xlim(1989,1997)\n",
    "\n",
    "plt.subplot(1,3,3)\n",
    "sns.scatterplot(x = 'year', y = 'total_time', data = RUMBLE_DATA.loc[RUMBLE_DATA['name'] == 'Shawn Michaels'])\n",
    "plt.xlim(1989,1997)\n",
    "plt.ylim(0,3600)\n",
    "plt.tight_layout()"
   ]
  },
  {
   "cell_type": "code",
   "execution_count": 14,
   "metadata": {},
   "outputs": [],
   "source": [
    "import category_encoders"
   ]
  },
  {
   "cell_type": "code",
   "execution_count": 15,
   "metadata": {},
   "outputs": [
    {
     "data": {
      "text/plain": [
       "Index(['year', 'entry_num', 'exit_num', 'name', 'entry_time', 'exit_time',\n",
       "       'total_time', 'elim_by', 'solo_elim', 'group_elim', 'illegal_elim',\n",
       "       'alignment', 'tag_overlap', 'tag_team', 'tag_partner', 'illegal_exit',\n",
       "       'accidental_exit', 'cum_elim', 'avg_cum_elim', 'world_champ',\n",
       "       'Unnamed: 20', 'cum_time', 'avg_cum_time', 'prev_app', 'us_champ',\n",
       "       'cruise_champ', 'euro_champ', 'total_elim'],\n",
       "      dtype='object')"
      ]
     },
     "execution_count": 15,
     "metadata": {},
     "output_type": "execute_result"
    }
   ],
   "source": [
    "RUMBLE_DATA.columns"
   ]
  },
  {
   "cell_type": "code",
   "execution_count": 16,
   "metadata": {},
   "outputs": [],
   "source": [
    "for wrestler in RUMBLE_DATA['name'].unique():\n",
    "    year_count = 0\n",
    "    elim_count = 0\n",
    "    time_count = 0\n",
    "    app_count = 0\n",
    "    \n",
    "    for year in RUMBLE_DATA.loc[RUMBLE_DATA['name'] == wrestler, 'year']:\n",
    "        RUMBLE_DATA.loc[(RUMBLE_DATA['name'] == wrestler) &\n",
    "                                (RUMBLE_DATA['year']== year), 'prev_app'] = year_count\n",
    "        year_count += 1\n",
    "        elim_count += int(RUMBLE_DATA.loc[(RUMBLE_DATA['name'] == wrestler) &\n",
    "                                        (RUMBLE_DATA['year']== year), 'total_elim'])\n",
    "        time_count += int(RUMBLE_DATA.loc[(RUMBLE_DATA['name'] == wrestler) &\n",
    "                                        (RUMBLE_DATA['year']== year), 'total_time'])\n",
    "        RUMBLE_DATA.loc[(RUMBLE_DATA['name'] == wrestler) &\n",
    "                                (RUMBLE_DATA['year']== year), 'cum_elim'] = elim_count\n",
    "        RUMBLE_DATA.loc[(RUMBLE_DATA['name'] == wrestler) &\n",
    "                                (RUMBLE_DATA['year']== year), 'avg_cum_elim'] = elim_count/year_count\n",
    "        RUMBLE_DATA.loc[(RUMBLE_DATA['name'] == wrestler) &\n",
    "                                (RUMBLE_DATA['year']== year), 'cum_time'] = time_count\n",
    "        RUMBLE_DATA.loc[(RUMBLE_DATA['name'] == wrestler) &\n",
    "                                (RUMBLE_DATA['year']== year), 'avg_cum_time'] = time_count/year_count       "
   ]
  },
  {
   "cell_type": "markdown",
   "metadata": {},
   "source": [
    "Trying to predict the entry is a fairly sophisticated time series problem- I only found one paper about ordinal time series models, and it's fairly recent. That being said, we can just try some of the inputs across a host of different encoding structures and GLM models and see what sticks."
   ]
  },
  {
   "cell_type": "code",
   "execution_count": 25,
   "metadata": {},
   "outputs": [],
   "source": [
    "X = RUMBLE_DATA[['year','name','alignment', 'cum_elim', 'avg_cum_elim', \n",
    "                 'world_champ', 'cum_time', 'avg_cum_time']]\n",
    "\n",
    "y = RUMBLE_DATA['entry_num']"
   ]
  },
  {
   "cell_type": "markdown",
   "metadata": {},
   "source": [
    "We want to come up with metrics that we will have access to going into a forthcoming Royal Rumble- it will be perfectly easy for the model to predict entrance number based on exit number, who eliminated who, etc. Hence the models below (I know why they are predicting so well, but after many attempts to figure out how to do a stratified train/test split and not being able to I hit a wall, and it feels much more like an extremely dumb thing that I'm missing through hours of combing and cleaning the data more than a lapse in understanding): "
   ]
  },
  {
   "cell_type": "code",
   "execution_count": 26,
   "metadata": {},
   "outputs": [
    {
     "data": {
      "text/plain": [
       "0.9999999999999518"
      ]
     },
     "execution_count": 26,
     "metadata": {},
     "output_type": "execute_result"
    }
   ],
   "source": [
    "from sklearn.preprocessing import OneHotEncoder\n",
    "from sklearn.linear_model import LinearRegression \n",
    "from sklearn.model_selection import train_test_split\n",
    "\n",
    "enc = OneHotEncoder(handle_unknown = 'ignore')\n",
    "\n",
    "enc.fit(X)\n",
    "\n",
    "encoded_X = enc.transform(X)\n",
    "\n",
    "reg = LinearRegression().fit(encoded_X,y)\n",
    "\n",
    "reg.score(encoded_X,y)"
   ]
  },
  {
   "cell_type": "code",
   "execution_count": 27,
   "metadata": {},
   "outputs": [
    {
     "name": "stderr",
     "output_type": "stream",
     "text": [
      "/home/christian/.local/lib/python3.6/site-packages/sklearn/linear_model/logistic.py:432: FutureWarning: Default solver will be changed to 'lbfgs' in 0.22. Specify a solver to silence this warning.\n",
      "  FutureWarning)\n",
      "/home/christian/.local/lib/python3.6/site-packages/sklearn/linear_model/logistic.py:469: FutureWarning: Default multi_class will be changed to 'auto' in 0.22. Specify the multi_class option to silence this warning.\n",
      "  \"this warning.\", FutureWarning)\n"
     ]
    },
    {
     "data": {
      "text/plain": [
       "1.0"
      ]
     },
     "execution_count": 27,
     "metadata": {},
     "output_type": "execute_result"
    }
   ],
   "source": [
    "from sklearn.linear_model import LogisticRegression\n",
    "\n",
    "reg = LogisticRegression().fit(encoded_X,y)\n",
    "\n",
    "reg.score(encoded_X,y)"
   ]
  },
  {
   "cell_type": "markdown",
   "metadata": {},
   "source": [
    "Once I figure out how to encode the data properly I can get a functional model going!"
   ]
  },
  {
   "cell_type": "markdown",
   "metadata": {},
   "source": []
  }
 ],
 "metadata": {
  "kernelspec": {
   "display_name": "Python 3",
   "language": "python",
   "name": "python3"
  },
  "language_info": {
   "codemirror_mode": {
    "name": "ipython",
    "version": 3
   },
   "file_extension": ".py",
   "mimetype": "text/x-python",
   "name": "python",
   "nbconvert_exporter": "python",
   "pygments_lexer": "ipython3",
   "version": "3.6.8"
  }
 },
 "nbformat": 4,
 "nbformat_minor": 2
}
